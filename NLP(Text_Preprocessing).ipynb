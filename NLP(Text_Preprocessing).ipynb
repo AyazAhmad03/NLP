{
  "nbformat": 4,
  "nbformat_minor": 0,
  "metadata": {
    "colab": {
      "provenance": [],
      "gpuType": "T4"
    },
    "kernelspec": {
      "name": "python3",
      "display_name": "Python 3"
    },
    "language_info": {
      "name": "python"
    },
    "accelerator": "GPU"
  },
  "cells": [
    {
      "cell_type": "code",
      "execution_count": 10,
      "metadata": {
        "colab": {
          "base_uri": "https://localhost:8080/"
        },
        "id": "81QH_jIPgiY2",
        "outputId": "4adc059b-fc06-40e3-9a31-785d6f3f7664"
      },
      "outputs": [
        {
          "output_type": "stream",
          "name": "stdout",
          "text": [
            "3.9.1\n"
          ]
        }
      ],
      "source": [
        "import nltk\n",
        "print(nltk.__version__)\n"
      ]
    },
    {
      "cell_type": "code",
      "source": [
        "paragraph = \"\"\"Narendra Damodardas Modi[a] (born 17 September 1950) is an Indian politician who has served as the prime minister of India since 2014. Modi was the chief minister of Gujarat from 2001 to 2014 and is the member of parliament (MP) for Varanasi. He is a member of the Bharatiya Janata Party (BJP) and of the Rashtriya Swayamsevak Sangh (RSS), a right-wing Hindutva paramilitary volunteer organisation. He is the longest-serving prime minister outside the Indian National Congress.\n",
        "\n",
        "Modi was born and raised in Vadnagar, Bombay State (present-day Gujarat), where he completed his secondary education. He was introduced to the RSS at the age of eight, becoming a full-time worker for the organisation in Gujarat in 1971. The RSS assigned him to the BJP in 1985, and he rose through the party hierarchy, becoming general secretary in 1998.[b] In 2001, Modi was appointed chief minister of Gujarat and elected to the legislative assembly soon after. His administration is considered complicit in the 2002 Gujarat riots[c] and has been criticised for its management of the crisis. According to official records, a little over 1,000 people were killed, three-quarters of whom were Muslim; independent sources estimated 2,000 deaths, mostly Muslim.[4] A Special Investigation Team appointed by the Supreme Court of India in 2012 found no evidence to initiate prosecution proceedings against him.[d] While his policies as chief minister were credited for encouraging economic growth, his administration was criticised for failing to significantly improve health, poverty and education indices in the state.[e]\"\"\""
      ],
      "metadata": {
        "id": "SsPdCqFfg2p0"
      },
      "execution_count": 11,
      "outputs": []
    },
    {
      "cell_type": "code",
      "source": [
        "paragraph"
      ],
      "metadata": {
        "colab": {
          "base_uri": "https://localhost:8080/",
          "height": 123
        },
        "id": "vRxhi8ydiVx8",
        "outputId": "22f55a89-2093-45c5-c4cb-02bb0fc99279"
      },
      "execution_count": 12,
      "outputs": [
        {
          "output_type": "execute_result",
          "data": {
            "text/plain": [
              "'Narendra Damodardas Modi[a] (born 17 September 1950) is an Indian politician who has served as the prime minister of India since 2014. Modi was the chief minister of Gujarat from 2001 to 2014 and is the member of parliament (MP) for Varanasi. He is a member of the Bharatiya Janata Party (BJP) and of the Rashtriya Swayamsevak Sangh (RSS), a right-wing Hindutva paramilitary volunteer organisation. He is the longest-serving prime minister outside the Indian National Congress.\\n\\nModi was born and raised in Vadnagar, Bombay State (present-day Gujarat), where he completed his secondary education. He was introduced to the RSS at the age of eight, becoming a full-time worker for the organisation in Gujarat in 1971. The RSS assigned him to the BJP in 1985, and he rose through the party hierarchy, becoming general secretary in 1998.[b] In 2001, Modi was appointed chief minister of Gujarat and elected to the legislative assembly soon after. His administration is considered complicit in the 2002 Gujarat riots[c] and has been criticised for its management of the crisis. According to official records, a little over 1,000 people were killed, three-quarters of whom were Muslim; independent sources estimated 2,000 deaths, mostly Muslim.[4] A Special Investigation Team appointed by the Supreme Court of India in 2012 found no evidence to initiate prosecution proceedings against him.[d] While his policies as chief minister were credited for encouraging economic growth, his administration was criticised for failing to significantly improve health, poverty and education indices in the state.[e]'"
            ],
            "application/vnd.google.colaboratory.intrinsic+json": {
              "type": "string"
            }
          },
          "metadata": {},
          "execution_count": 12
        }
      ]
    },
    {
      "cell_type": "code",
      "source": [
        "import nltk\n",
        "from nltk.stem import PorterStemmer\n",
        "from nltk.corpus import stopwords"
      ],
      "metadata": {
        "id": "E-eVtLLBiZDy"
      },
      "execution_count": 52,
      "outputs": []
    },
    {
      "cell_type": "code",
      "source": [
        "nltk.download('punkt')\n",
        "nltk.download('punkt_tab')"
      ],
      "metadata": {
        "colab": {
          "base_uri": "https://localhost:8080/"
        },
        "id": "k8e5MO-x-PM6",
        "outputId": "d55b2e29-d186-4fe8-efb1-a6d0b93d5f14"
      },
      "execution_count": 18,
      "outputs": [
        {
          "output_type": "stream",
          "name": "stderr",
          "text": [
            "[nltk_data] Downloading package punkt to /root/nltk_data...\n",
            "[nltk_data]   Package punkt is already up-to-date!\n",
            "[nltk_data] Downloading package punkt_tab to /root/nltk_data...\n",
            "[nltk_data]   Unzipping tokenizers/punkt_tab.zip.\n"
          ]
        },
        {
          "output_type": "execute_result",
          "data": {
            "text/plain": [
              "True"
            ]
          },
          "metadata": {},
          "execution_count": 18
        }
      ]
    },
    {
      "cell_type": "markdown",
      "source": [
        "1.**Tokenization**\n",
        "*   Tokenization converts paragraph --> Sentences --> Words\n",
        "*   nltk.sent_tokenize()      //*converts paragraph to sentences*\n",
        "\n",
        "\n"
      ],
      "metadata": {
        "id": "rbT2VSKqBjn5"
      }
    },
    {
      "cell_type": "code",
      "source": [
        "sentences=nltk.sent_tokenize(paragraph)"
      ],
      "metadata": {
        "id": "XwWvQWUu-Unc"
      },
      "execution_count": 19,
      "outputs": []
    },
    {
      "cell_type": "code",
      "source": [
        "print(sentences)"
      ],
      "metadata": {
        "colab": {
          "base_uri": "https://localhost:8080/"
        },
        "id": "FmpiuN_1_wjb",
        "outputId": "dbb955c9-126c-43aa-a0a4-921abcdddb33"
      },
      "execution_count": 21,
      "outputs": [
        {
          "output_type": "stream",
          "name": "stdout",
          "text": [
            "['Narendra Damodardas Modi[a] (born 17 September 1950) is an Indian politician who has served as the prime minister of India since 2014.', 'Modi was the chief minister of Gujarat from 2001 to 2014 and is the member of parliament (MP) for Varanasi.', 'He is a member of the Bharatiya Janata Party (BJP) and of the Rashtriya Swayamsevak Sangh (RSS), a right-wing Hindutva paramilitary volunteer organisation.', 'He is the longest-serving prime minister outside the Indian National Congress.', 'Modi was born and raised in Vadnagar, Bombay State (present-day Gujarat), where he completed his secondary education.', 'He was introduced to the RSS at the age of eight, becoming a full-time worker for the organisation in Gujarat in 1971.', 'The RSS assigned him to the BJP in 1985, and he rose through the party hierarchy, becoming general secretary in 1998.', '[b] In 2001, Modi was appointed chief minister of Gujarat and elected to the legislative assembly soon after.', 'His administration is considered complicit in the 2002 Gujarat riots[c] and has been criticised for its management of the crisis.', 'According to official records, a little over 1,000 people were killed, three-quarters of whom were Muslim; independent sources estimated 2,000 deaths, mostly Muslim.', '[4] A Special Investigation Team appointed by the Supreme Court of India in 2012 found no evidence to initiate prosecution proceedings against him.', '[d] While his policies as chief minister were credited for encouraging economic growth, his administration was criticised for failing to significantly improve health, poverty and education indices in the state.', '[e]']\n"
          ]
        }
      ]
    },
    {
      "cell_type": "code",
      "source": [
        "sentences[0]"
      ],
      "metadata": {
        "colab": {
          "base_uri": "https://localhost:8080/",
          "height": 36
        },
        "id": "j8BUrkS8Adoy",
        "outputId": "9f789787-8235-4fd9-90cd-f17fd80568f7"
      },
      "execution_count": 23,
      "outputs": [
        {
          "output_type": "execute_result",
          "data": {
            "text/plain": [
              "'Narendra Damodardas Modi[a] (born 17 September 1950) is an Indian politician who has served as the prime minister of India since 2014.'"
            ],
            "application/vnd.google.colaboratory.intrinsic+json": {
              "type": "string"
            }
          },
          "metadata": {},
          "execution_count": 23
        }
      ]
    },
    {
      "cell_type": "markdown",
      "source": [
        "\n",
        "*  nltk.word_tokenize()  //*converts paragraph to words*\n",
        "\n"
      ],
      "metadata": {
        "id": "TOmTJ1FmEAQD"
      }
    },
    {
      "cell_type": "code",
      "source": [
        "Words=nltk.word_tokenize(paragraph)\n",
        "print(Words)"
      ],
      "metadata": {
        "colab": {
          "base_uri": "https://localhost:8080/"
        },
        "id": "FcReHSs_BWZS",
        "outputId": "d020050c-0488-4436-d184-8ff83b3d201a"
      },
      "execution_count": 30,
      "outputs": [
        {
          "output_type": "stream",
          "name": "stdout",
          "text": [
            "['Narendra', 'Damodardas', 'Modi', '[', 'a', ']', '(', 'born', '17', 'September', '1950', ')', 'is', 'an', 'Indian', 'politician', 'who', 'has', 'served', 'as', 'the', 'prime', 'minister', 'of', 'India', 'since', '2014', '.', 'Modi', 'was', 'the', 'chief', 'minister', 'of', 'Gujarat', 'from', '2001', 'to', '2014', 'and', 'is', 'the', 'member', 'of', 'parliament', '(', 'MP', ')', 'for', 'Varanasi', '.', 'He', 'is', 'a', 'member', 'of', 'the', 'Bharatiya', 'Janata', 'Party', '(', 'BJP', ')', 'and', 'of', 'the', 'Rashtriya', 'Swayamsevak', 'Sangh', '(', 'RSS', ')', ',', 'a', 'right-wing', 'Hindutva', 'paramilitary', 'volunteer', 'organisation', '.', 'He', 'is', 'the', 'longest-serving', 'prime', 'minister', 'outside', 'the', 'Indian', 'National', 'Congress', '.', 'Modi', 'was', 'born', 'and', 'raised', 'in', 'Vadnagar', ',', 'Bombay', 'State', '(', 'present-day', 'Gujarat', ')', ',', 'where', 'he', 'completed', 'his', 'secondary', 'education', '.', 'He', 'was', 'introduced', 'to', 'the', 'RSS', 'at', 'the', 'age', 'of', 'eight', ',', 'becoming', 'a', 'full-time', 'worker', 'for', 'the', 'organisation', 'in', 'Gujarat', 'in', '1971', '.', 'The', 'RSS', 'assigned', 'him', 'to', 'the', 'BJP', 'in', '1985', ',', 'and', 'he', 'rose', 'through', 'the', 'party', 'hierarchy', ',', 'becoming', 'general', 'secretary', 'in', '1998', '.', '[', 'b', ']', 'In', '2001', ',', 'Modi', 'was', 'appointed', 'chief', 'minister', 'of', 'Gujarat', 'and', 'elected', 'to', 'the', 'legislative', 'assembly', 'soon', 'after', '.', 'His', 'administration', 'is', 'considered', 'complicit', 'in', 'the', '2002', 'Gujarat', 'riots', '[', 'c', ']', 'and', 'has', 'been', 'criticised', 'for', 'its', 'management', 'of', 'the', 'crisis', '.', 'According', 'to', 'official', 'records', ',', 'a', 'little', 'over', '1,000', 'people', 'were', 'killed', ',', 'three-quarters', 'of', 'whom', 'were', 'Muslim', ';', 'independent', 'sources', 'estimated', '2,000', 'deaths', ',', 'mostly', 'Muslim', '.', '[', '4', ']', 'A', 'Special', 'Investigation', 'Team', 'appointed', 'by', 'the', 'Supreme', 'Court', 'of', 'India', 'in', '2012', 'found', 'no', 'evidence', 'to', 'initiate', 'prosecution', 'proceedings', 'against', 'him', '.', '[', 'd', ']', 'While', 'his', 'policies', 'as', 'chief', 'minister', 'were', 'credited', 'for', 'encouraging', 'economic', 'growth', ',', 'his', 'administration', 'was', 'criticised', 'for', 'failing', 'to', 'significantly', 'improve', 'health', ',', 'poverty', 'and', 'education', 'indices', 'in', 'the', 'state', '.', '[', 'e', ']']\n"
          ]
        }
      ]
    },
    {
      "cell_type": "code",
      "source": [
        "Words[0]"
      ],
      "metadata": {
        "colab": {
          "base_uri": "https://localhost:8080/",
          "height": 36
        },
        "id": "_W5_cXjGCkxy",
        "outputId": "d0780cba-f27f-410e-da81-84092942c237"
      },
      "execution_count": 31,
      "outputs": [
        {
          "output_type": "execute_result",
          "data": {
            "text/plain": [
              "'Narendra'"
            ],
            "application/vnd.google.colaboratory.intrinsic+json": {
              "type": "string"
            }
          },
          "metadata": {},
          "execution_count": 31
        }
      ]
    },
    {
      "cell_type": "markdown",
      "source": [
        "**Regularization**\n",
        "\n",
        "*    text = re.sub(r'\\[[a-z0-9]+\\]', '', text) --> *Removing footnotes*\n",
        "*    text = re.sub('[^a-zA-z]', ' ', text)  --> //*Removing everything except letters*\n",
        "\n",
        "\n"
      ],
      "metadata": {
        "id": "k_3eQarPJmiS"
      }
    },
    {
      "cell_type": "code",
      "source": [
        "import re\n",
        "corpus=[]\n",
        "for i in range(len(sentences)):\n",
        "  text=sentences[i]\n",
        "  text = re.sub(r'\\[[a-z0-9]+\\]', '', text)\n",
        "  text=re.sub('[^a-zA-z]', ' ', text)\n",
        "  text=text.lower()\n",
        "  corpus.append(text)"
      ],
      "metadata": {
        "id": "gLu-eFM5DXte"
      },
      "execution_count": 47,
      "outputs": []
    },
    {
      "cell_type": "code",
      "source": [
        "corpus"
      ],
      "metadata": {
        "colab": {
          "base_uri": "https://localhost:8080/"
        },
        "id": "HipC6_1BElDr",
        "outputId": "b65cb170-a233-4f2a-a63f-8f9af6e76aab"
      },
      "execution_count": 48,
      "outputs": [
        {
          "output_type": "execute_result",
          "data": {
            "text/plain": [
              "['narendra damodardas modi  born    september       is an indian politician who has served as the prime minister of india since      ',\n",
              " 'modi was the chief minister of gujarat from      to      and is the member of parliament  mp  for varanasi ',\n",
              " 'he is a member of the bharatiya janata party  bjp  and of the rashtriya swayamsevak sangh  rss   a right wing hindutva paramilitary volunteer organisation ',\n",
              " 'he is the longest serving prime minister outside the indian national congress ',\n",
              " 'modi was born and raised in vadnagar  bombay state  present day gujarat   where he completed his secondary education ',\n",
              " 'he was introduced to the rss at the age of eight  becoming a full time worker for the organisation in gujarat in      ',\n",
              " 'the rss assigned him to the bjp in       and he rose through the party hierarchy  becoming general secretary in      ',\n",
              " ' in       modi was appointed chief minister of gujarat and elected to the legislative assembly soon after ',\n",
              " 'his administration is considered complicit in the      gujarat riots and has been criticised for its management of the crisis ',\n",
              " 'according to official records  a little over       people were killed  three quarters of whom were muslim  independent sources estimated       deaths  mostly muslim ',\n",
              " ' a special investigation team appointed by the supreme court of india in      found no evidence to initiate prosecution proceedings against him ',\n",
              " ' while his policies as chief minister were credited for encouraging economic growth  his administration was criticised for failing to significantly improve health  poverty and education indices in the state ',\n",
              " '']"
            ]
          },
          "metadata": {},
          "execution_count": 48
        }
      ]
    },
    {
      "cell_type": "code",
      "source": [
        "nltk.download('stopwords')"
      ],
      "metadata": {
        "colab": {
          "base_uri": "https://localhost:8080/"
        },
        "id": "7max22wFJZhx",
        "outputId": "19993093-5940-43fc-9ee5-1ba9a1ee4786"
      },
      "execution_count": 59,
      "outputs": [
        {
          "output_type": "stream",
          "name": "stderr",
          "text": [
            "[nltk_data] Downloading package stopwords to /root/nltk_data...\n",
            "[nltk_data]   Unzipping corpora/stopwords.zip.\n"
          ]
        },
        {
          "output_type": "execute_result",
          "data": {
            "text/plain": [
              "True"
            ]
          },
          "metadata": {},
          "execution_count": 59
        }
      ]
    },
    {
      "cell_type": "markdown",
      "source": [
        "**2.Stemming**"
      ],
      "metadata": {
        "id": "3scbLJ33ODsG"
      }
    },
    {
      "cell_type": "code",
      "source": [
        "for i in corpus:\n",
        "  words=nltk.word_tokenize(i)\n",
        "  for word in words:\n",
        "    if word not in set(stopwords.words('english')):\n",
        "      print(stemmer.stem(word))"
      ],
      "metadata": {
        "colab": {
          "base_uri": "https://localhost:8080/"
        },
        "id": "dr3hBkr7Gs-P",
        "outputId": "db82c613-f72e-4bde-8ad2-4dbcd8423d40"
      },
      "execution_count": 60,
      "outputs": [
        {
          "output_type": "stream",
          "name": "stdout",
          "text": [
            "narendra\n",
            "damodarda\n",
            "modi\n",
            "born\n",
            "septemb\n",
            "indian\n",
            "politician\n",
            "serv\n",
            "prime\n",
            "minist\n",
            "india\n",
            "sinc\n",
            "modi\n",
            "chief\n",
            "minist\n",
            "gujarat\n",
            "member\n",
            "parliament\n",
            "mp\n",
            "varanasi\n",
            "member\n",
            "bharatiya\n",
            "janata\n",
            "parti\n",
            "bjp\n",
            "rashtriya\n",
            "swayamsevak\n",
            "sangh\n",
            "rss\n",
            "right\n",
            "wing\n",
            "hindutva\n",
            "paramilitari\n",
            "volunt\n",
            "organis\n",
            "longest\n",
            "serv\n",
            "prime\n",
            "minist\n",
            "outsid\n",
            "indian\n",
            "nation\n",
            "congress\n",
            "modi\n",
            "born\n",
            "rais\n",
            "vadnagar\n",
            "bombay\n",
            "state\n",
            "present\n",
            "day\n",
            "gujarat\n",
            "complet\n",
            "secondari\n",
            "educ\n",
            "introduc\n",
            "rss\n",
            "age\n",
            "eight\n",
            "becom\n",
            "full\n",
            "time\n",
            "worker\n",
            "organis\n",
            "gujarat\n",
            "rss\n",
            "assign\n",
            "bjp\n",
            "rose\n",
            "parti\n",
            "hierarchi\n",
            "becom\n",
            "gener\n",
            "secretari\n",
            "modi\n",
            "appoint\n",
            "chief\n",
            "minist\n",
            "gujarat\n",
            "elect\n",
            "legisl\n",
            "assembl\n",
            "soon\n",
            "administr\n",
            "consid\n",
            "complicit\n",
            "gujarat\n",
            "riot\n",
            "criticis\n",
            "manag\n",
            "crisi\n",
            "accord\n",
            "offici\n",
            "record\n",
            "littl\n",
            "peopl\n",
            "kill\n",
            "three\n",
            "quarter\n",
            "muslim\n",
            "independ\n",
            "sourc\n",
            "estim\n",
            "death\n",
            "mostli\n",
            "muslim\n",
            "special\n",
            "investig\n",
            "team\n",
            "appoint\n",
            "suprem\n",
            "court\n",
            "india\n",
            "found\n",
            "evid\n",
            "initi\n",
            "prosecut\n",
            "proceed\n",
            "polici\n",
            "chief\n",
            "minist\n",
            "credit\n",
            "encourag\n",
            "econom\n",
            "growth\n",
            "administr\n",
            "criticis\n",
            "fail\n",
            "significantli\n",
            "improv\n",
            "health\n",
            "poverti\n",
            "educ\n",
            "indic\n",
            "state\n"
          ]
        }
      ]
    },
    {
      "cell_type": "code",
      "source": [
        "nltk.download('wordnet')\n"
      ],
      "metadata": {
        "colab": {
          "base_uri": "https://localhost:8080/"
        },
        "id": "ZC3VfGJvLzGr",
        "outputId": "6fe8e081-511c-4740-b24d-499d426ba132"
      },
      "execution_count": 65,
      "outputs": [
        {
          "output_type": "stream",
          "name": "stderr",
          "text": [
            "[nltk_data] Downloading package wordnet to /root/nltk_data...\n"
          ]
        },
        {
          "output_type": "execute_result",
          "data": {
            "text/plain": [
              "True"
            ]
          },
          "metadata": {},
          "execution_count": 65
        }
      ]
    },
    {
      "cell_type": "markdown",
      "source": [
        "**3.Lemmatization**"
      ],
      "metadata": {
        "id": "cugOEdSDOJ_N"
      }
    },
    {
      "cell_type": "code",
      "source": [
        "from nltk.stem import WordNetLemmatizer\n",
        "lemmatizer = WordNetLemmatizer()\n",
        "for i in corpus:\n",
        "  words=nltk.word_tokenize(i)\n",
        "  for word in words:\n",
        "    if word not in set(stopwords.words('english')):\n",
        "      print(lemmatizer.lemmatize(word))"
      ],
      "metadata": {
        "colab": {
          "base_uri": "https://localhost:8080/"
        },
        "id": "VkIfoXT2It4-",
        "outputId": "f9ab7972-4064-4433-9ab1-90c6320b9fd4"
      },
      "execution_count": 66,
      "outputs": [
        {
          "output_type": "stream",
          "name": "stdout",
          "text": [
            "narendra\n",
            "damodardas\n",
            "modi\n",
            "born\n",
            "september\n",
            "indian\n",
            "politician\n",
            "served\n",
            "prime\n",
            "minister\n",
            "india\n",
            "since\n",
            "modi\n",
            "chief\n",
            "minister\n",
            "gujarat\n",
            "member\n",
            "parliament\n",
            "mp\n",
            "varanasi\n",
            "member\n",
            "bharatiya\n",
            "janata\n",
            "party\n",
            "bjp\n",
            "rashtriya\n",
            "swayamsevak\n",
            "sangh\n",
            "rss\n",
            "right\n",
            "wing\n",
            "hindutva\n",
            "paramilitary\n",
            "volunteer\n",
            "organisation\n",
            "longest\n",
            "serving\n",
            "prime\n",
            "minister\n",
            "outside\n",
            "indian\n",
            "national\n",
            "congress\n",
            "modi\n",
            "born\n",
            "raised\n",
            "vadnagar\n",
            "bombay\n",
            "state\n",
            "present\n",
            "day\n",
            "gujarat\n",
            "completed\n",
            "secondary\n",
            "education\n",
            "introduced\n",
            "rss\n",
            "age\n",
            "eight\n",
            "becoming\n",
            "full\n",
            "time\n",
            "worker\n",
            "organisation\n",
            "gujarat\n",
            "rss\n",
            "assigned\n",
            "bjp\n",
            "rose\n",
            "party\n",
            "hierarchy\n",
            "becoming\n",
            "general\n",
            "secretary\n",
            "modi\n",
            "appointed\n",
            "chief\n",
            "minister\n",
            "gujarat\n",
            "elected\n",
            "legislative\n",
            "assembly\n",
            "soon\n",
            "administration\n",
            "considered\n",
            "complicit\n",
            "gujarat\n",
            "riot\n",
            "criticised\n",
            "management\n",
            "crisis\n",
            "according\n",
            "official\n",
            "record\n",
            "little\n",
            "people\n",
            "killed\n",
            "three\n",
            "quarter\n",
            "muslim\n",
            "independent\n",
            "source\n",
            "estimated\n",
            "death\n",
            "mostly\n",
            "muslim\n",
            "special\n",
            "investigation\n",
            "team\n",
            "appointed\n",
            "supreme\n",
            "court\n",
            "india\n",
            "found\n",
            "evidence\n",
            "initiate\n",
            "prosecution\n",
            "proceeding\n",
            "policy\n",
            "chief\n",
            "minister\n",
            "credited\n",
            "encouraging\n",
            "economic\n",
            "growth\n",
            "administration\n",
            "criticised\n",
            "failing\n",
            "significantly\n",
            "improve\n",
            "health\n",
            "poverty\n",
            "education\n",
            "index\n",
            "state\n"
          ]
        }
      ]
    },
    {
      "cell_type": "code",
      "source": [
        "import re\n",
        "corpus=[]\n",
        "for i in range(len(sentences)):\n",
        "  review=re.sub('[^a-zA-Z]', ' ', sentences[i])\n",
        "  review=review.lower()\n",
        "  review=review.split()\n",
        "  review=[lemmatizer.lemmatize(word) for word in review if not word in set(stopwords.words('english'))]\n",
        "  review=' '.join(review)\n",
        "  corpus.append(review)"
      ],
      "metadata": {
        "id": "bl9Sm9q6NzlN"
      },
      "execution_count": 83,
      "outputs": []
    },
    {
      "cell_type": "markdown",
      "source": [
        "**4.Bag of Words**"
      ],
      "metadata": {
        "id": "HhbAiAinOPwY"
      }
    },
    {
      "cell_type": "code",
      "source": [
        "from sklearn.feature_extraction.text import CountVectorizer\n",
        "CV=CountVectorizer(binary=True)\n",
        "X=CV.fit_transform(corpus)"
      ],
      "metadata": {
        "id": "L-1JMYVELNWo"
      },
      "execution_count": 84,
      "outputs": []
    },
    {
      "cell_type": "code",
      "source": [
        "CV.vocabulary_"
      ],
      "metadata": {
        "colab": {
          "base_uri": "https://localhost:8080/"
        },
        "id": "6FG-n2w4NAHa",
        "outputId": "a89a27be-d2c3-40c1-e770-0e527784a607"
      },
      "execution_count": 85,
      "outputs": [
        {
          "output_type": "execute_result",
          "data": {
            "text/plain": [
              "{'narendra': 59,\n",
              " 'damodardas': 20,\n",
              " 'modi': 55,\n",
              " 'born': 10,\n",
              " 'september': 86,\n",
              " 'indian': 43,\n",
              " 'politician': 69,\n",
              " 'served': 87,\n",
              " 'prime': 72,\n",
              " 'minister': 54,\n",
              " 'india': 42,\n",
              " 'since': 90,\n",
              " 'chief': 11,\n",
              " 'gujarat': 35,\n",
              " 'member': 53,\n",
              " 'parliament': 65,\n",
              " 'mp': 57,\n",
              " 'varanasi': 101,\n",
              " 'bharatiya': 7,\n",
              " 'janata': 47,\n",
              " 'party': 66,\n",
              " 'bjp': 8,\n",
              " 'rashtriya': 77,\n",
              " 'swayamsevak': 96,\n",
              " 'sangh': 83,\n",
              " 'rss': 82,\n",
              " 'right': 79,\n",
              " 'wing': 103,\n",
              " 'hindutva': 38,\n",
              " 'paramilitary': 64,\n",
              " 'volunteer': 102,\n",
              " 'organisation': 62,\n",
              " 'longest': 51,\n",
              " 'serving': 88,\n",
              " 'outside': 63,\n",
              " 'national': 60,\n",
              " 'congress': 14,\n",
              " 'raised': 76,\n",
              " 'vadnagar': 100,\n",
              " 'bombay': 9,\n",
              " 'state': 94,\n",
              " 'present': 71,\n",
              " 'day': 21,\n",
              " 'completed': 12,\n",
              " 'secondary': 84,\n",
              " 'education': 24,\n",
              " 'introduced': 45,\n",
              " 'age': 2,\n",
              " 'eight': 25,\n",
              " 'becoming': 6,\n",
              " 'full': 32,\n",
              " 'time': 99,\n",
              " 'worker': 104,\n",
              " 'assigned': 5,\n",
              " 'rose': 81,\n",
              " 'hierarchy': 37,\n",
              " 'general': 33,\n",
              " 'secretary': 85,\n",
              " 'appointed': 3,\n",
              " 'elected': 26,\n",
              " 'legislative': 49,\n",
              " 'assembly': 4,\n",
              " 'soon': 91,\n",
              " 'administration': 1,\n",
              " 'considered': 15,\n",
              " 'complicit': 13,\n",
              " 'riot': 80,\n",
              " 'criticised': 19,\n",
              " 'management': 52,\n",
              " 'crisis': 18,\n",
              " 'according': 0,\n",
              " 'official': 61,\n",
              " 'record': 78,\n",
              " 'little': 50,\n",
              " 'people': 67,\n",
              " 'killed': 48,\n",
              " 'three': 98,\n",
              " 'quarter': 75,\n",
              " 'muslim': 58,\n",
              " 'independent': 40,\n",
              " 'source': 92,\n",
              " 'estimated': 28,\n",
              " 'death': 22,\n",
              " 'mostly': 56,\n",
              " 'special': 93,\n",
              " 'investigation': 46,\n",
              " 'team': 97,\n",
              " 'supreme': 95,\n",
              " 'court': 16,\n",
              " 'found': 31,\n",
              " 'evidence': 29,\n",
              " 'initiate': 44,\n",
              " 'prosecution': 74,\n",
              " 'proceeding': 73,\n",
              " 'policy': 68,\n",
              " 'credited': 17,\n",
              " 'encouraging': 27,\n",
              " 'economic': 23,\n",
              " 'growth': 34,\n",
              " 'failing': 30,\n",
              " 'significantly': 89,\n",
              " 'improve': 39,\n",
              " 'health': 36,\n",
              " 'poverty': 70,\n",
              " 'index': 41}"
            ]
          },
          "metadata": {},
          "execution_count": 85
        }
      ]
    },
    {
      "cell_type": "code",
      "source": [
        "corpus[0]"
      ],
      "metadata": {
        "colab": {
          "base_uri": "https://localhost:8080/",
          "height": 36
        },
        "id": "UwiMis2GMnMo",
        "outputId": "1dcac678-169b-4f6b-b568-07baf1bab6db"
      },
      "execution_count": 86,
      "outputs": [
        {
          "output_type": "execute_result",
          "data": {
            "text/plain": [
              "'narendra damodardas modi born september indian politician served prime minister india since'"
            ],
            "application/vnd.google.colaboratory.intrinsic+json": {
              "type": "string"
            }
          },
          "metadata": {},
          "execution_count": 86
        }
      ]
    },
    {
      "cell_type": "code",
      "source": [
        "X[1].toarray()"
      ],
      "metadata": {
        "colab": {
          "base_uri": "https://localhost:8080/"
        },
        "id": "B9k92Sc5MqGp",
        "outputId": "943b4238-4e2a-4291-eeb4-84ee91980520"
      },
      "execution_count": 87,
      "outputs": [
        {
          "output_type": "execute_result",
          "data": {
            "text/plain": [
              "array([[0, 0, 0, 0, 0, 0, 0, 0, 0, 0, 0, 1, 0, 0, 0, 0, 0, 0, 0, 0, 0, 0,\n",
              "        0, 0, 0, 0, 0, 0, 0, 0, 0, 0, 0, 0, 0, 1, 0, 0, 0, 0, 0, 0, 0, 0,\n",
              "        0, 0, 0, 0, 0, 0, 0, 0, 0, 1, 1, 1, 0, 1, 0, 0, 0, 0, 0, 0, 0, 1,\n",
              "        0, 0, 0, 0, 0, 0, 0, 0, 0, 0, 0, 0, 0, 0, 0, 0, 0, 0, 0, 0, 0, 0,\n",
              "        0, 0, 0, 0, 0, 0, 0, 0, 0, 0, 0, 0, 0, 1, 0, 0, 0]])"
            ]
          },
          "metadata": {},
          "execution_count": 87
        }
      ]
    },
    {
      "cell_type": "code",
      "source": [],
      "metadata": {
        "id": "A3jHfsz4M4V-"
      },
      "execution_count": null,
      "outputs": []
    }
  ]
}